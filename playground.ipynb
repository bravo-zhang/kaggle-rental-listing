{
 "cells": [
  {
   "cell_type": "code",
   "execution_count": 60,
   "metadata": {
    "collapsed": true,
    "deletable": true,
    "editable": true
   },
   "outputs": [],
   "source": [
    "import numpy as np\n",
    "import pandas as pd\n",
    "from sklearn.feature_extraction.text import CountVectorizer"
   ]
  },
  {
   "cell_type": "code",
   "execution_count": 64,
   "metadata": {
    "collapsed": false,
    "deletable": true,
    "editable": true
   },
   "outputs": [],
   "source": [
    "X_train = pd.read_json('train.json').sort_values(by='listing_id')\n",
    "X_test = pd.read_json(\"test.json\").sort_values(by=\"listing_id\")"
   ]
  },
  {
   "cell_type": "code",
   "execution_count": 57,
   "metadata": {
    "collapsed": false
   },
   "outputs": [
    {
     "name": "stdout",
     "output_type": "stream",
     "text": [
      "672826\n"
     ]
    }
   ],
   "source": [
    "fmt = lambda feat: [s.replace(\"\\u00a0\", \"\").strip().lower()\n",
    "                    .replace(\" \", \"_\").replace(\"-\", \"_\").replace(\"/\", \"_\")\n",
    "                    .replace(\"!\", \"\")\n",
    "                    .replace(\"24_hour\", \"24_7\")\n",
    "                    .replace(\"concierge\", \"doorman\").replace(\"doorman_concierge\", \"doorman\")\n",
    "                    .replace(\"bicycle\", \"bike\")\n",
    "                    for s in feat]\n",
    "X_train[\"features\"] = X_train[\"features\"].apply(fmt)\n",
    "X_test[\"features\"] = X_test[\"features\"].apply(fmt)\n",
    "features = [f for f_list in list(X_train[\"features\"]) + list(X_test[\"features\"]) for f in f_list]\n",
    "print len(features)"
   ]
  },
  {
   "cell_type": "code",
   "execution_count": 59,
   "metadata": {
    "collapsed": false,
    "scrolled": true
   },
   "outputs": [
    {
     "name": "stdout",
     "output_type": "stream",
     "text": [
      "2313\n",
      "billiards_room                                 23\n",
      "billiards_table_and_wet_bar                    12\n",
      "bluetooth                                       5\n",
      "bluetooth_sound_system                          1\n",
      "bluetooth_system                                1\n",
      "boasting_hardwood_floors                        1\n",
      "boating_hardwood_floors                         1\n",
      "bocce_courts                                    1\n",
      "both_bedrooms_have_huge_closets                 1\n",
      "boxing_room                                     1\n",
      "brand_new                                      10\n",
      "brand_new_apartment                             1\n",
      "brand_new_appliances                            2\n",
      "brand_new_full_size_appliance_kitchen           1\n",
      "brand_new_gut_renovated                         1\n",
      "brand_new_gut_renovations                       1\n",
      "brand_new_refridgerator                         1\n",
      "brand_new_renovation                            3\n",
      "brand_new_s_steel_appliances                    1\n",
      "brand_new_ss_appliances                         2\n",
      "brand_new_ss_kitchen                            1\n",
      "brand_new_stainless_steal_appliances            1\n",
      "brand_new_stainless_steel_appliances            2\n",
      "brand_new_washer_&_dryer                        1\n",
      "brand_newm_outdoor_deck                         1\n",
      "brand_spanking_new                              3\n",
      "breakfast_bar                                  17\n",
      "brick_fireplace                                 1\n",
      "bridge_view                                     1\n",
      "bright                                         11\n",
      "                                            ...  \n",
      "catering_facility                               1\n",
      "cats_allowed                                59194\n",
      "cats_on_approval                                1\n",
      "ceiling_fan                                     5\n",
      "ceiling_fan...                                  1\n",
      "ceiling_fan._3lg_closets                        1\n",
      "ceiling_fans                                    2\n",
      "central_a_c                                   160\n",
      "central_a_c_+_heat                              1\n",
      "central_ac                                     64\n",
      "central_air                                    22\n",
      "central_air_conditioning                        4\n",
      "central_air_conditioning_and_heating            1\n",
      "central_heat                                    7\n",
      "central_location:_68th_&_3rd                    1\n",
      "central_park_1_2_block_away                     1\n",
      "central_park_views                              1\n",
      "ceramic_floor_tiles                             2\n",
      "chef's_kitchen                                  4\n",
      "chef's_kitchen._bedrms_fit_quenns_easily        1\n",
      "chefs_kitchen                                  21\n",
      "chelsea                                         1\n",
      "cherrywood_flooring                             1\n",
      "children's_playroom                           105\n",
      "children's_room                                 4\n",
      "children_playroom                               4\n",
      "childrens_playroom                            181\n",
      "childrens_room                                  1\n",
      "children’s_playroom                             9\n",
      "children’s_playroom.                            4\n",
      "dtype: int64\n"
     ]
    }
   ],
   "source": [
    "ps = pd.Series(features)\n",
    "grouped = ps.groupby(ps).agg(len)\n",
    "print len(grouped)\n",
    "# 400-500\n",
    "print grouped[700:800]\n",
    "feat = grouped[grouped >= 10].index.sort_values().values"
   ]
  },
  {
   "cell_type": "code",
   "execution_count": 55,
   "metadata": {
    "collapsed": false,
    "scrolled": false
   },
   "outputs": [
    {
     "name": "stdout",
     "output_type": "stream",
     "text": [
      "252\n"
     ]
    }
   ],
   "source": [
    "print len(feat)"
   ]
  },
  {
   "cell_type": "code",
   "execution_count": 65,
   "metadata": {
    "collapsed": false,
    "scrolled": false
   },
   "outputs": [
    {
     "name": "stdout",
     "output_type": "stream",
     "text": [
      "111817                 doorman elevator laundry_in_building\n",
      "117995    cats_allowed dogs_allowed no_fee laundry_in_bu...\n",
      "114617    common_outdoor_space cats_allowed private_outd...\n",
      "117474    common_outdoor_space cats_allowed dogs_allowed...\n",
      "103891    cats_allowed dogs_allowed doorman elevator lau...\n",
      "115303    swimming_pool doorman fitness_center dogs_allo...\n",
      "90388                     pre-war dogs_allowed cats_allowed\n",
      "117348    fitness_center pre-war no_fee dogs_allowed cat...\n",
      "120266                    pre-war dogs_allowed cats_allowed\n",
      "88762                                               pre-war\n",
      "110010                                              pre-war\n",
      "94499                     doorman dogs_allowed cats_allowed\n",
      "110938                                              pre-war\n",
      "121624    doorman fitness_center no_fee dogs_allowed cat...\n",
      "111634    doorman fitness_center pre-war dogs_allowed ca...\n",
      "117094     fitness_center pre-war dogs_allowed cats_allowed\n",
      "89421                     doorman dogs_allowed cats_allowed\n",
      "122220             pre-war no_fee dogs_allowed cats_allowed\n",
      "84383                                               pre-war\n",
      "113404                                              doorman\n",
      "88259                                               pre-war\n",
      "109072                    pre-war dogs_allowed cats_allowed\n",
      "113460    doorman pre-war laundry_in_building no_fee dog...\n",
      "108025                                                     \n",
      "123980             fitness_center dogs_allowed cats_allowed\n",
      "104518     doorman fitness_center dogs_allowed cats_allowed\n",
      "105440                   pre-war laundry_in_building no_fee\n",
      "93083              fitness_center dogs_allowed cats_allowed\n",
      "103149                     no_fee dogs_allowed cats_allowed\n",
      "96685                             dogs_allowed cats_allowed\n",
      "                                ...                        \n",
      "85644     doorman elevator garden/patio loft laundry_in_...\n",
      "85850     doorman elevator garden/patio dishwasher hardw...\n",
      "94642     cats_allowed dogs_allowed elevator laundry_in_...\n",
      "58969                             cats_allowed dogs_allowed\n",
      "77001     common_outdoor_space laundry_in_unit cats_allo...\n",
      "44472     common_outdoor_space laundry_in_unit parking_s...\n",
      "114436    no_fee attended_lobby concierge ft_doorman hi_...\n",
      "34165     private_outdoor_space elevator keyed_elevator_...\n",
      "115854    cats_allowed dogs_allowed elevator laundry_in_...\n",
      "112078    common_outdoor_space laundry_in_unit cats_allo...\n",
      "111142                     cats_allowed dogs_allowed no_fee\n",
      "54828       reduced_fee laundry_in_building hardwood_floors\n",
      "109285    common_outdoor_space laundry_in_unit doorman e...\n",
      "44970     common_outdoor_space doorman elevator fitness_...\n",
      "106878    common_outdoor_space doorman elevator fitness_...\n",
      "515                     elevator dishwasher hardwood_floors\n",
      "36657     common_outdoor_space laundry_in_unit cats_allo...\n",
      "20615     common_outdoor_space cats_allowed dogs_allowed...\n",
      "111253                           dishwasher hardwood_floors\n",
      "45555     cats_allowed laundry_in_unit dogs_allowed priv...\n",
      "112595    swimming_pool roof_deck doorman elevator fitne...\n",
      "99484     roof_deck doorman elevator fitness_center pre-...\n",
      "16611     common_outdoor_space cats_allowed dogs_allowed...\n",
      "108695           cats_allowed dogs_allowed doorman elevator\n",
      "21584     common_outdoor_space laundry_in_unit cats_allo...\n",
      "13761                no_fee doorman elevator fitness_center\n",
      "101433    common_outdoor_space cats_allowed dogs_allowed...\n",
      "46524                                             exclusive\n",
      "70888          elevator cats_allowed dogs_allowed exclusive\n",
      "43                                              reduced_fee\n",
      "Name: features, dtype: object\n",
      "111817                 doorman elevator laundry_in_building\n",
      "117995    cats_allowed dogs_allowed no_fee laundry_in_bu...\n",
      "114617    common_outdoor_space cats_allowed private_outd...\n",
      "117474    common_outdoor_space cats_allowed dogs_allowed...\n",
      "103891    cats_allowed dogs_allowed doorman elevator lau...\n",
      "115303    swimming_pool doorman fitness_center dogs_allo...\n",
      "90388                     pre-war dogs_allowed cats_allowed\n",
      "117348    fitness_center pre-war no_fee dogs_allowed cat...\n",
      "120266                    pre-war dogs_allowed cats_allowed\n",
      "88762                                               pre-war\n",
      "110010                                              pre-war\n",
      "94499                     doorman dogs_allowed cats_allowed\n",
      "110938                                              pre-war\n",
      "121624    doorman fitness_center no_fee dogs_allowed cat...\n",
      "111634    doorman fitness_center pre-war dogs_allowed ca...\n",
      "117094     fitness_center pre-war dogs_allowed cats_allowed\n",
      "89421                     doorman dogs_allowed cats_allowed\n",
      "122220             pre-war no_fee dogs_allowed cats_allowed\n",
      "84383                                               pre-war\n",
      "113404                                              doorman\n",
      "88259                                               pre-war\n",
      "109072                    pre-war dogs_allowed cats_allowed\n",
      "113460    doorman pre-war laundry_in_building no_fee dog...\n",
      "108025                                                     \n",
      "123980             fitness_center dogs_allowed cats_allowed\n",
      "104518     doorman fitness_center dogs_allowed cats_allowed\n",
      "105440                   pre-war laundry_in_building no_fee\n",
      "93083              fitness_center dogs_allowed cats_allowed\n",
      "103149                     no_fee dogs_allowed cats_allowed\n",
      "96685                             dogs_allowed cats_allowed\n",
      "                                ...                        \n",
      "85644     doorman elevator garden/patio loft laundry_in_...\n",
      "85850     doorman elevator garden/patio dishwasher hardw...\n",
      "94642     cats_allowed dogs_allowed elevator laundry_in_...\n",
      "58969                             cats_allowed dogs_allowed\n",
      "77001     common_outdoor_space laundry_in_unit cats_allo...\n",
      "44472     common_outdoor_space laundry_in_unit parking_s...\n",
      "114436    no_fee attended_lobby concierge ft_doorman hi_...\n",
      "34165     private_outdoor_space elevator keyed_elevator_...\n",
      "115854    cats_allowed dogs_allowed elevator laundry_in_...\n",
      "112078    common_outdoor_space laundry_in_unit cats_allo...\n",
      "111142                     cats_allowed dogs_allowed no_fee\n",
      "54828       reduced_fee laundry_in_building hardwood_floors\n",
      "109285    common_outdoor_space laundry_in_unit doorman e...\n",
      "44970     common_outdoor_space doorman elevator fitness_...\n",
      "106878    common_outdoor_space doorman elevator fitness_...\n",
      "515                     elevator dishwasher hardwood_floors\n",
      "36657     common_outdoor_space laundry_in_unit cats_allo...\n",
      "20615     common_outdoor_space cats_allowed dogs_allowed...\n",
      "111253                           dishwasher hardwood_floors\n",
      "45555     cats_allowed laundry_in_unit dogs_allowed priv...\n",
      "112595    swimming_pool roof_deck doorman elevator fitne...\n",
      "99484     roof_deck doorman elevator fitness_center pre-...\n",
      "16611     common_outdoor_space cats_allowed dogs_allowed...\n",
      "108695           cats_allowed dogs_allowed doorman elevator\n",
      "21584     common_outdoor_space laundry_in_unit cats_allo...\n",
      "13761                no_fee doorman elevator fitness_center\n",
      "101433    common_outdoor_space cats_allowed dogs_allowed...\n",
      "46524                                             exclusive\n",
      "70888          elevator cats_allowed dogs_allowed exclusive\n",
      "43                                              reduced_fee\n",
      "Name: features, dtype: object\n"
     ]
    }
   ],
   "source": [
    "feature_transform = CountVectorizer(stop_words='english', max_features=150)\n",
    "X_train['features'] = X_train[\"features\"].apply(lambda x: \" \".join([\"_\".join(i.lower().split(\" \")) for i in x]))\n",
    "print X_train['features']\n",
    "X_test['features'] = X_test[\"features\"].apply(lambda x: \" \".join([\"_\".join(i.lower().split(\" \")) for i in x]))\n",
    "feature_transform.fit(list(X_train['features']) + list(X_test['features']))\n",
    "print X_train['features']"
   ]
  }
 ],
 "metadata": {
  "kernelspec": {
   "display_name": "Python 2",
   "language": "python",
   "name": "python2"
  },
  "language_info": {
   "codemirror_mode": {
    "name": "ipython",
    "version": 2
   },
   "file_extension": ".py",
   "mimetype": "text/x-python",
   "name": "python",
   "nbconvert_exporter": "python",
   "pygments_lexer": "ipython2",
   "version": "2.7.10"
  }
 },
 "nbformat": 4,
 "nbformat_minor": 2
}
